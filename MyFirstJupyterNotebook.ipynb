{
 "cells": [
  {
   "cell_type": "markdown",
   "id": "33a81f6b",
   "metadata": {},
   "source": [
    "This is my first Python Program on Jupyter notebook.\n"
   ]
  },
  {
   "cell_type": "code",
   "execution_count": 3,
   "id": "49e55f1b",
   "metadata": {},
   "outputs": [
    {
     "name": "stdout",
     "output_type": "stream",
     "text": [
      "My First Python Program on Jupyter Notebook\n",
      "The result of 5 + 3 is: 8\n"
     ]
    }
   ],
   "source": [
    "print(\"My First Python Program on Jupyter Notebook\")\n",
    "result = 5 + 3\n",
    "print(\"The result of 5 + 3 is:\", result)\n"
   ]
  }
 ],
 "metadata": {
  "kernelspec": {
   "display_name": "Python 3",
   "language": "python",
   "name": "python3"
  },
  "language_info": {
   "codemirror_mode": {
    "name": "ipython",
    "version": 3
   },
   "file_extension": ".py",
   "mimetype": "text/x-python",
   "name": "python",
   "nbconvert_exporter": "python",
   "pygments_lexer": "ipython3",
   "version": "3.12.10"
  }
 },
 "nbformat": 4,
 "nbformat_minor": 5
}
