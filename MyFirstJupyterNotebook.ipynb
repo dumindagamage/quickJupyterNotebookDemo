{
 "cells": [
  {
   "cell_type": "code",
   "execution_count": null,
   "id": "a173e141",
   "metadata": {},
   "outputs": [],
   "source": [
    "print(\"My First Python Program\")"
   ]
  }
 ],
 "metadata": {
  "language_info": {
   "name": "python"
  }
 },
 "nbformat": 4,
 "nbformat_minor": 5
}
