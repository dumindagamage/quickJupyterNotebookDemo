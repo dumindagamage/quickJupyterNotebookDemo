{
 "cells": [
  {
   "cell_type": "markdown",
   "id": "33a81f6b",
   "metadata": {},
   "source": [
    "This is my first Python Program on Jupyter notebook.\n"
   ]
  },
  {
   "cell_type": "code",
   "execution_count": null,
   "id": "49e55f1b",
   "metadata": {},
   "outputs": [],
   "source": [
    "print(\"My First Python Program on Jupyter Notebook\")\n",
    "\n"
   ]
  }
 ],
 "metadata": {
  "language_info": {
   "name": "python"
  }
 },
 "nbformat": 4,
 "nbformat_minor": 5
}
