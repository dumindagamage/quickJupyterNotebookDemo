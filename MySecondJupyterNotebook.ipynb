{
 "cells": [
  {
   "cell_type": "markdown",
   "id": "49d19f7e",
   "metadata": {},
   "source": [
    "# This is my send Note Book"
   ]
  }
 ],
 "metadata": {
  "language_info": {
   "name": "python"
  }
 },
 "nbformat": 4,
 "nbformat_minor": 5
}
